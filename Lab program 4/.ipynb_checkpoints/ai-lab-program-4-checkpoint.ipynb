{
 "cells": [
  {
   "cell_type": "markdown",
   "metadata": {
    "_cell_guid": "b1076dfc-b9ad-4769-8c92-a6c4dae69d19",
    "_uuid": "8f2839f25d086af736a60e9eeb907d3b93b6e0e5"
   },
   "source": [
    "# 8 Puzzle Problem"
   ]
  },
  {
   "cell_type": "markdown",
   "metadata": {
    "_cell_guid": "79c7e3d0-c299-4dcb-8224-4455121ee9b0",
    "_uuid": "d629ff2d2480ee46fbb7e2d37f6b5fab8052498a",
    "collapsed": true
   },
   "source": [
    "BMS College of Engineering - Dr Kavitha Sooda <br />\n",
    "BMS College of Engineering - Dr Nagarathna N <br />\n",
    "BMS College of Engineering - Prof G R Asha  <br />\n",
    "##### Class 5C"
   ]
  },
  {
   "cell_type": "markdown",
   "metadata": {},
   "source": [
    "## Objective\n",
    " Given a 3×3 board with 8 tiles and one empty space \n",
    " - Move the numbers around to match the final configuration using the empty spot \n",
    " - You can slide the numbers from above, below, left and right tiles into the empty space.\n",
    "![](https://media.geeksforgeeks.org/wp-content/uploads/puzzle8init.jpg)"
   ]
  },
  {
   "cell_type": "markdown",
   "metadata": {},
   "source": [
    "# Use A* Algorithm\n",
    "\n",
    "![](https://media.geeksforgeeks.org/wp-content/uploads/puzzle-1.jpg)"
   ]
  },
  {
   "cell_type": "markdown",
   "metadata": {},
   "source": [
    "## 1. Create the function that finds us the total estimated cost of path through node n - F(n)\n",
    "- Create a way to find cost so far to reach node n - G(n) \n",
    "- Create a heuristic function to estimate cost from n to goal - H(n)"
   ]
  },
  {
   "cell_type": "code",
   "execution_count": 44,
   "metadata": {},
   "outputs": [],
   "source": [
    "# def G_n(state):  #dist of curr node to root node\n",
    "#     # Note: You can skip this step if you feel you have a better way of getting G(n)\n",
    "    "
   ]
  },
  {
   "cell_type": "code",
   "execution_count": 1,
   "metadata": {},
   "outputs": [],
   "source": [
    "def H_n(state, target):   # no of misplaced tiles by comparing curr state to goal state \n",
    "    h = 0\n",
    "    for i in state:\n",
    "        i1, i2 = state.index(i), target.index(i)\n",
    "        y_1, x_1 = i1 % 3, i1 // 3\n",
    "        y_2, x_2 = i2 % 3, i2 // 3\n",
    "        h += abs(x_1-x_2) + abs(y_1-y_2)\n",
    "        \n",
    "    return h"
   ]
  },
  {
   "cell_type": "code",
   "execution_count": 2,
   "metadata": {},
   "outputs": [],
   "source": [
    "# def F_n(g,h):# Fill inputs as necessary\n",
    "#     return f = g+h \n",
    "    "
   ]
  },
  {
   "cell_type": "markdown",
   "metadata": {},
   "source": [
    "## 2. Create a Search function\n",
    "### To traverse across the tree using F(n) to select the next node\n",
    "    1. Make sure it to discard visited sites\n",
    "    2. Create possible moves function\n",
    "    3. Create move generator function\n"
   ]
  },
  {
   "cell_type": "code",
   "execution_count": 3,
   "metadata": {},
   "outputs": [],
   "source": [
    "def astar(source, target):# Add inputs if more are required\n",
    "    g = 0\n",
    "    states = [source]\n",
    "    visited_states = []\n",
    "    while len(states):\n",
    "        print(\"Level :{}\".format(g))\n",
    "        mv = []\n",
    "        for state in states:\n",
    "            visited_states.append(state)\n",
    "            if state == target:\n",
    "                print(\"Success\")\n",
    "                return\n",
    "            mv += [move for move in possible_moves(state, visited_states) if move not in mv]\n",
    "        costs = [g + H_n(move, target) for move in mv]\n",
    "        states = [mv[i] for i in range(len(mv)) if costs[i] == min(costs)]\n",
    "        g += 1\n",
    "    print(\"Fail\")\n",
    "    "
   ]
  },
  {
   "cell_type": "code",
   "execution_count": 4,
   "metadata": {},
   "outputs": [],
   "source": [
    "def possible_moves(state,visited_states):# Add inputs if more are required\n",
    "    b = state.index(-1)\n",
    "    \n",
    "    d = []\n",
    "    \n",
    "  \n",
    "                                    \n",
    "    if b-3 in range(9):\n",
    "        d.append('u')\n",
    "    if b+3 in range(9):\n",
    "        d.append('d')\n",
    "    if b not in [0,3,6]: \n",
    "        d.append('l')\n",
    "    if b not in [2,5,8]: \n",
    "        d.append('r')\n",
    "    \n",
    "    \n",
    "    # If direction is possible then add state to move\n",
    "    pos_moves = []\n",
    "    \n",
    "    # for all possible directions find the state if that move is played\n",
    "    ### Jump to gen function to generate all possible moves in the given directions\n",
    "    for move in d:\n",
    "        pos_moves.append(gen(state,move,b))\n",
    "        \n",
    "    return [m for m in pos_moves if m not in visited_states ]\n"
   ]
  },
  {
   "cell_type": "code",
   "execution_count": 5,
   "metadata": {},
   "outputs": [],
   "source": [
    "def gen(state, m, b):\n",
    "    temp = state.copy()                                \n",
    "    \n",
    "    # if move is to slide empty spot to the left and so on\n",
    "    if m == 'u': temp[b], temp[b-3] = temp[b-3], temp[b]\n",
    "    if m == 'd': temp[b], temp[b+3] = temp[b+3], temp[b]\n",
    "    if m == 'l': temp[b], temp[b-1] = temp[b-1], temp[b]\n",
    "    if m == 'r': temp[b], temp[b+1] = temp[b+1], temp[b]\n",
    "    \n",
    "    # return new state with tested move to later check if \"src == target\"\n",
    "    return temp"
   ]
  },
  {
   "cell_type": "code",
   "execution_count": 6,
   "metadata": {},
   "outputs": [
    {
     "name": "stdout",
     "output_type": "stream",
     "text": [
      "Level :0\n",
      "Level :1\n",
      "Level :2\n",
      "Success\n"
     ]
    }
   ],
   "source": [
    "#Test 1\n",
    "src = [1,2,3,-1,4,5,6,7,8]\n",
    "target = [1,2,3,4,5,-1,6,7,8]         \n",
    "       \n",
    "\n",
    "\n",
    "astar(src, target)"
   ]
  },
  {
   "cell_type": "code",
   "execution_count": 7,
   "metadata": {},
   "outputs": [
    {
     "name": "stdout",
     "output_type": "stream",
     "text": [
      "Level :0\n",
      "Level :1\n",
      "Success\n"
     ]
    }
   ],
   "source": [
    "# Test 2\n",
    "src = [1,2,3,-1,4,5,6,7,8] \n",
    "target=[1,2,3,6,4,5,-1,7,8]\n",
    "\n",
    "\n",
    "\n",
    "astar(src, target)"
   ]
  },
  {
   "cell_type": "code",
   "execution_count": 8,
   "metadata": {},
   "outputs": [
    {
     "name": "stdout",
     "output_type": "stream",
     "text": [
      "Level :0\n",
      "Level :1\n",
      "Level :2\n",
      "Level :3\n",
      "Level :4\n",
      "Level :5\n",
      "Level :6\n",
      "Level :7\n",
      "Level :8\n",
      "Level :9\n",
      "Level :10\n",
      "Level :11\n",
      "Level :12\n",
      "Level :13\n",
      "Level :14\n",
      "Level :15\n",
      "Level :16\n",
      "Level :17\n",
      "Level :18\n",
      "Level :19\n",
      "Level :20\n",
      "Level :21\n",
      "Level :22\n",
      "Level :23\n",
      "Level :24\n",
      "Level :25\n",
      "Level :26\n",
      "Level :27\n",
      "Level :28\n",
      "Level :29\n",
      "Level :30\n",
      "Level :31\n",
      "Level :32\n",
      "Level :33\n",
      "Level :34\n",
      "Level :35\n",
      "Level :36\n",
      "Level :37\n",
      "Fail\n"
     ]
    }
   ],
   "source": [
    "# Test 3\n",
    "src = [1,2,3,7,4,5,6,-1,8] \n",
    "target=[1,2,3,6,4,5,-1,7,8]\n",
    "\n",
    "\n",
    "\n",
    "astar(src, target)"
   ]
  },
  {
   "cell_type": "code",
   "execution_count": null,
   "metadata": {},
   "outputs": [],
   "source": []
  }
 ],
 "metadata": {
  "kernelspec": {
   "display_name": "Python 3",
   "language": "python",
   "name": "python3"
  },
  "language_info": {
   "codemirror_mode": {
    "name": "ipython",
    "version": 3
   },
   "file_extension": ".py",
   "mimetype": "text/x-python",
   "name": "python",
   "nbconvert_exporter": "python",
   "pygments_lexer": "ipython3",
   "version": "3.7.3"
  }
 },
 "nbformat": 4,
 "nbformat_minor": 4
}
