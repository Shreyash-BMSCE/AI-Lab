{
 "cells": [
  {
   "cell_type": "markdown",
   "metadata": {
    "_cell_guid": "b1076dfc-b9ad-4769-8c92-a6c4dae69d19",
    "_uuid": "8f2839f25d086af736a60e9eeb907d3b93b6e0e5"
   },
   "source": [
    "# 8 Puzzle Problem"
   ]
  },
  {
   "cell_type": "markdown",
   "metadata": {
    "_cell_guid": "79c7e3d0-c299-4dcb-8224-4455121ee9b0",
    "_uuid": "d629ff2d2480ee46fbb7e2d37f6b5fab8052498a",
    "collapsed": true
   },
   "source": [
    "BMS College of Engineering - Dr Kavitha Sooda <br />\n",
    "BMS College of Engineering - Dr Nagarathna N <br />\n",
    "BMS College of Engineering - Prof G R Asha  <br />\n",
    "##### Class 5C"
   ]
  },
  {
   "cell_type": "markdown",
   "metadata": {},
   "source": [
    "## Objective\n",
    " Given a 3×3 board with 8 tiles and one empty space \n",
    " - Move the numbers around to match the final configuration using the empty spot \n",
    " - You can slide the numbers from above, below, left and right tiles into the empty space.\n",
    "![](https://media.geeksforgeeks.org/wp-content/uploads/puzzle8init.jpg)"
   ]
  },
  {
   "cell_type": "markdown",
   "metadata": {},
   "source": [
    "Try and use a Brute Force Algorithms\n",
    "\n",
    "![](https://media.geeksforgeeks.org/wp-content/uploads/puzzle-1.jpg)"
   ]
  },
  {
   "cell_type": "code",
   "execution_count": 26,
   "metadata": {},
   "outputs": [],
   "source": [
    "# Bredth first search in search of target - Using Brute Force Algorithms\n",
    "\n",
    "def bfs(src,target):\n",
    "    # Use brute force technique\n",
    "    arr = [src]\n",
    "    c = 0\n",
    "    while arr:\n",
    "        c += 1                                                                            \n",
    "        if arr[0] == target:  \n",
    "            print(\"Successfully found after \",c , \" iterations\")\n",
    "            return True\n",
    "            \n",
    "        arr += possible_moves(arr[0])                    \n",
    "        arr.pop(0)                                                                    \n",
    "    return False\n",
    "    "
   ]
  },
  {
   "cell_type": "code",
   "execution_count": 27,
   "metadata": {},
   "outputs": [],
   "source": [
    "# Find Possible Moves\n",
    "def possible_moves(state): \n",
    "    b = state.index(-1)\n",
    "    \n",
    "    d = []\n",
    "    \n",
    "  \n",
    "                                    \n",
    "    if b-3 in range(9):\n",
    "        d.append('u')\n",
    "    if b+3 in range(9):\n",
    "        d.append('d')\n",
    "    if b not in [0,3,6]: \n",
    "        d.append('l')\n",
    "    if b not in [2,5,8]: \n",
    "        d.append('r')\n",
    "    \n",
    "    \n",
    "    # If direction is possible then add state to move\n",
    "    pos_moves = []\n",
    "    \n",
    "    # for all possible directions find the state if that move is played\n",
    "    ### Jump to gen function to generate all possible moves in the given directions\n",
    "    for move in d:\n",
    "        pos_moves.append(gen(state,move,b))\n",
    "        \n",
    "    return pos_moves\n",
    "\n"
   ]
  },
  {
   "cell_type": "code",
   "execution_count": 28,
   "metadata": {},
   "outputs": [],
   "source": [
    "# Generate move for given direction\n",
    "def gen(state, m, b):\n",
    "    temp = state.copy()                                \n",
    "    \n",
    "    # if move is to slide empty spot to the left and so on\n",
    "    if m == 'u': temp[b], temp[b-3] = temp[b-3], temp[b]\n",
    "    if m == 'd': temp[b], temp[b+3] = temp[b+3], temp[b]\n",
    "    if m == 'l': temp[b], temp[b-1] = temp[b-1], temp[b]\n",
    "    if m == 'r': temp[b], temp[b+1] = temp[b+1], temp[b]\n",
    "    \n",
    "    # return new state with tested move to later check if \"src == target\"\n",
    "    return temp"
   ]
  },
  {
   "cell_type": "code",
   "execution_count": 31,
   "metadata": {},
   "outputs": [
    {
     "name": "stdout",
     "output_type": "stream",
     "text": [
      "Successfully found after  12  iterations\n"
     ]
    },
    {
     "data": {
      "text/plain": [
       "True"
      ]
     },
     "execution_count": 31,
     "metadata": {},
     "output_type": "execute_result"
    }
   ],
   "source": [
    "\n",
    "#Test 1\n",
    "src = [1,2,3,-1,4,5,6,7,8]\n",
    "target = [1,2,3,4,5,-1,6,7,8]         \n",
    "       \n",
    "bfs(src, target)"
   ]
  },
  {
   "cell_type": "code",
   "execution_count": 32,
   "metadata": {},
   "outputs": [
    {
     "name": "stdout",
     "output_type": "stream",
     "text": [
      "Successfully found after  3  iterations\n"
     ]
    },
    {
     "data": {
      "text/plain": [
       "True"
      ]
     },
     "execution_count": 32,
     "metadata": {},
     "output_type": "execute_result"
    }
   ],
   "source": [
    "# Test 2\n",
    "src = [1,2,3,-1,4,5,6,7,8] \n",
    "target=[1,2,3,6,4,5,-1,7,8]\n",
    "\n",
    "\n",
    "\n",
    "bfs(src, target)"
   ]
  },
  {
   "cell_type": "markdown",
   "metadata": {},
   "source": [
    "# Challenge"
   ]
  },
  {
   "cell_type": "markdown",
   "metadata": {},
   "source": [
    "1. Change the above functions to add memory so the a site already checked isnt visited again\n",
    "2. Try another brute force algorithm to find the solution"
   ]
  }
 ],
 "metadata": {
  "kernelspec": {
   "display_name": "Python 3",
   "language": "python",
   "name": "python3"
  },
  "language_info": {
   "codemirror_mode": {
    "name": "ipython",
    "version": 3
   },
   "file_extension": ".py",
   "mimetype": "text/x-python",
   "name": "python",
   "nbconvert_exporter": "python",
   "pygments_lexer": "ipython3",
   "version": "3.7.3"
  }
 },
 "nbformat": 4,
 "nbformat_minor": 4
}
